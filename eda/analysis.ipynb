{
 "cells": [
  {
   "cell_type": "code",
   "execution_count": 2,
   "id": "5264a9b4",
   "metadata": {},
   "outputs": [],
   "source": [
    "import pandas as pd\n",
    "import os"
   ]
  },
  {
   "cell_type": "code",
   "execution_count": 5,
   "id": "88210799",
   "metadata": {},
   "outputs": [],
   "source": [
    "# Ensure the directories exist before saving\n",
    "os.makedirs('../data', exist_ok=True)\n",
    "os.makedirs('../data', exist_ok=True)"
   ]
  },
  {
   "cell_type": "code",
   "execution_count": 6,
   "id": "4eb11bd8",
   "metadata": {},
   "outputs": [],
   "source": [
    "# Load the dataset\n",
    "file_path = '../data/cricinfo_innings_data.csv'\n",
    "df = pd.read_csv(file_path)"
   ]
  },
  {
   "cell_type": "code",
   "execution_count": 7,
   "id": "462d513f",
   "metadata": {},
   "outputs": [],
   "source": [
    "# Drop unnecessary columns and reset the index\n",
    "df_cleaned = df.drop(columns=[col for col in df.columns if 'Unnamed' in col or 'Column' in col])"
   ]
  },
  {
   "cell_type": "code",
   "execution_count": 8,
   "id": "4f4e516a",
   "metadata": {},
   "outputs": [
    {
     "name": "stderr",
     "output_type": "stream",
     "text": [
      "C:\\Users\\Labib\\AppData\\Local\\Temp\\ipykernel_19700\\374183996.py:3: UserWarning: Could not infer format, so each element will be parsed individually, falling back to `dateutil`. To ensure parsing is consistent and as-expected, please specify a format.\n",
      "  df_cleaned['Start Date'] = pd.to_datetime(df_cleaned['Start Date'], errors='coerce')  # Convert to datetime\n"
     ]
    }
   ],
   "source": [
    "# Convert relevant columns to appropriate data types\n",
    "# The dates in the dataset are in 'YYYY-MM-DD' format, so we let pandas infer it\n",
    "df_cleaned['Start Date'] = pd.to_datetime(df_cleaned['Start Date'], errors='coerce')  # Convert to datetime\n",
    "df_cleaned['Score'] = pd.to_numeric(df_cleaned['Score'], errors='coerce')  # Convert Score to numeric"
   ]
  },
  {
   "cell_type": "code",
   "execution_count": null,
   "id": "e7c2f45c",
   "metadata": {},
   "outputs": [],
   "source": [
    "# Handle missing values\n",
    "df_cleaned['Result'] = df_cleaned['Result'].fillna('Unknown')\n",
    "df_cleaned['Target'] = df_cleaned['Target'].fillna(0)\n",
    "df_cleaned['Lead'] = df_cleaned['Lead'].fillna(0)\n"
   ]
  },
  {
   "cell_type": "code",
   "execution_count": null,
   "id": "d66d7cb1",
   "metadata": {},
   "outputs": [],
   "source": [
    "# Remove rows with completely missing values\n",
    "df_cleaned = df_cleaned.dropna(how='all')"
   ]
  },
  {
   "cell_type": "code",
   "execution_count": null,
   "id": "5fa51db6",
   "metadata": {},
   "outputs": [],
   "source": [
    "# Remove duplicates\n",
    "df_cleaned = df_cleaned.drop_duplicates()"
   ]
  },
  {
   "cell_type": "code",
   "execution_count": null,
   "id": "3b05de3a",
   "metadata": {},
   "outputs": [],
   "source": [
    "# Save the cleaned dataset\n",
    "df_cleaned.to_csv('../data/cricinfo_innings_data_clean.csv', index=False)"
   ]
  },
  {
   "cell_type": "code",
   "execution_count": null,
   "id": "a2130794",
   "metadata": {},
   "outputs": [],
   "source": [
    "print(\"Data cleaning completed and saved to '../data/cricinfo_innings_data_clean.csv'\")\n",
    "print(\"First few rows of the cleaned dataset:\")\n",
    "df_cleaned.head()"
   ]
  },
  {
   "cell_type": "code",
   "execution_count": null,
   "id": "d0384d23",
   "metadata": {},
   "outputs": [],
   "source": [
    "import pandas as pd\n",
    "import matplotlib.pyplot as plt\n",
    "import seaborn as sns"
   ]
  },
  {
   "cell_type": "code",
   "execution_count": null,
   "id": "6560691b",
   "metadata": {},
   "outputs": [],
   "source": [
    "# Load the cleaned dataset\n",
    "df = pd.read_csv('../data/cricinfo_innings_data_clean.csv')"
   ]
  },
  {
   "cell_type": "code",
   "execution_count": null,
   "id": "1610c8c3",
   "metadata": {},
   "outputs": [],
   "source": [
    "# Convert 'Start Date' to datetime again (as it may be read as string from CSV)\n",
    "df['Start Date'] = pd.to_datetime(df['Start Date'], errors='coerce')"
   ]
  },
  {
   "cell_type": "code",
   "execution_count": null,
   "id": "02afc1b6",
   "metadata": {},
   "outputs": [],
   "source": [
    "# Extract Format and Opposition Team from 'Opposition' column\n",
    "df['Format'] = df['Opposition'].apply(lambda x: x.split(' v ')[0])\n",
    "df['Opposition Team'] = df['Opposition'].apply(lambda x: x.split(' v ')[1])\n"
   ]
  },
  {
   "cell_type": "code",
   "execution_count": null,
   "id": "f6ce9834",
   "metadata": {},
   "outputs": [],
   "source": [
    "# Create a match-level dataset for result-based analyses\n",
    "matches = df.groupby(['Start Date', 'Opposition']).first().reset_index()"
   ]
  },
  {
   "cell_type": "code",
   "execution_count": null,
   "id": "31b43bc4",
   "metadata": {},
   "outputs": [],
   "source": [
    "# Basic Statistics\n",
    "print(\"### Number of Matches by Format\")\n",
    "print(matches['Format'].value_counts())\n"
   ]
  },
  {
   "cell_type": "code",
   "execution_count": null,
   "id": "4d73bad5",
   "metadata": {},
   "outputs": [],
   "source": [
    "print(\"\\n### Number of Matches Against Each Opposition\")\n",
    "print(matches['Opposition Team'].value_counts().head(10))  # Top 10 for brevity\n"
   ]
  },
  {
   "cell_type": "code",
   "execution_count": null,
   "id": "b71980a2",
   "metadata": {},
   "outputs": [],
   "source": [
    "print(\"\\n### Result Percentages (Match-Level)\")\n",
    "print(matches['Result'].value_counts(normalize=True) * 100)"
   ]
  },
  {
   "cell_type": "code",
   "execution_count": null,
   "id": "b4840a64",
   "metadata": {},
   "outputs": [],
   "source": [
    "# Score Distribution by Format\n",
    "plt.figure(figsize=(10, 6))\n",
    "sns.boxplot(x='Format', y='Score', data=df)\n",
    "plt.title('Score Distribution by Format')\n",
    "plt.xlabel('Format')\n",
    "plt.ylabel('Score')\n",
    "plt.xticks(rotation=45)\n",
    "plt.show()"
   ]
  },
  {
   "cell_type": "code",
   "execution_count": null,
   "id": "cfbb27f9",
   "metadata": {},
   "outputs": [],
   "source": [
    "# Average Score Over Time\n",
    "df['Year'] = df['Start Date'].dt.year\n",
    "avg_score_by_year = df.groupby('Year')['Score'].mean()\n",
    "plt.figure(figsize=(12, 6))\n",
    "avg_score_by_year.plot()\n",
    "plt.title('Average Score Over Time (Per Innings)')\n",
    "plt.xlabel('Year')\n",
    "plt.ylabel('Average Score')\n",
    "plt.grid(True)\n",
    "plt.show()"
   ]
  },
  {
   "cell_type": "code",
   "execution_count": null,
   "id": "2ca4b31e",
   "metadata": {},
   "outputs": [],
   "source": [
    "# Average RPO Over Time by Format\n",
    "avg_rpo_by_year_format = df.groupby(['Year', 'Format'])['RPO'].mean().unstack()\n",
    "plt.figure(figsize=(12, 6))\n",
    "avg_rpo_by_year_format.plot()\n",
    "plt.title('Average Runs Per Over (RPO) Over Time by Format')\n",
    "plt.xlabel('Year')\n",
    "plt.ylabel('Average RPO')\n",
    "plt.legend(title='Format')\n",
    "plt.grid(True)\n",
    "plt.show()"
   ]
  },
  {
   "cell_type": "code",
   "execution_count": null,
   "id": "38050e55",
   "metadata": {},
   "outputs": [],
   "source": [
    "# Results by Decade (Match-Level)\n",
    "matches['Decade'] = (matches['Start Date'].dt.year // 10) * 10\n",
    "win_loss_by_decade = matches.groupby(['Decade', 'Result']).size().unstack().fillna(0)\n",
    "plt.figure(figsize=(12, 6))\n",
    "win_loss_by_decade.plot(kind='bar', stacked=True)\n",
    "plt.title('Match Results by Decade')\n",
    "plt.xlabel('Decade')\n",
    "plt.ylabel('Number of Matches')\n",
    "plt.legend(title='Result')\n",
    "plt.show()"
   ]
  },
  {
   "cell_type": "code",
   "execution_count": null,
   "id": "0d6826f1",
   "metadata": {},
   "outputs": [],
   "source": [
    "# Performance Against Oppositions (Match-Level)\n",
    "win_loss_by_opposition = matches.groupby(['Opposition Team', 'Result']).size().unstack().fillna(0)\n",
    "win_loss_by_opposition['Win Percentage'] = (win_loss_by_opposition.get('won', 0) / win_loss_by_opposition.sum(axis=1)) * 100\n",
    "print(\"\\n### Performance Against Top Oppositions (Win Percentage)\")\n",
    "print(win_loss_by_opposition.sort_values('Win Percentage', ascending=False).head(10))\n"
   ]
  },
  {
   "cell_type": "code",
   "execution_count": null,
   "id": "f2d5fb7f",
   "metadata": {},
   "outputs": [],
   "source": [
    "# Ground Analysis (Match-Level)\n",
    "top_grounds = matches['Ground'].value_counts().head(10)\n",
    "print(\"\\n### Top 10 Grounds by Number of Matches\")\n",
    "print(top_grounds)"
   ]
  },
  {
   "cell_type": "code",
   "execution_count": null,
   "id": "1b35377e",
   "metadata": {},
   "outputs": [],
   "source": [
    "# Performance at Top Grounds\n",
    "df_top_grounds = matches[matches['Ground'].isin(top_grounds.index)]\n",
    "performance_at_grounds = df_top_grounds.groupby(['Ground', 'Result']).size().unstack().fillna(0)\n",
    "print(\"\\n### Performance at Top Grounds\")\n",
    "print(performance_at_grounds)"
   ]
  }
 ],
 "metadata": {
  "kernelspec": {
   "display_name": ".venv",
   "language": "python",
   "name": "python3"
  },
  "language_info": {
   "codemirror_mode": {
    "name": "ipython",
    "version": 3
   },
   "file_extension": ".py",
   "mimetype": "text/x-python",
   "name": "python",
   "nbconvert_exporter": "python",
   "pygments_lexer": "ipython3",
   "version": "3.13.5"
  }
 },
 "nbformat": 4,
 "nbformat_minor": 5
}
